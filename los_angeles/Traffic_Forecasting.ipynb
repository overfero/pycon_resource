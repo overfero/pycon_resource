{
 "cells": [
  {
   "cell_type": "markdown",
   "id": "feb1232b",
   "metadata": {},
   "source": [
    "**Please download the dataset at this**: [link](https://drive.google.com/drive/folders/1knZGVI_WzuJ9E63vlnBKIB2UgZPdVDzc?usp=sharing)"
   ]
  },
  {
   "cell_type": "code",
   "execution_count": 20,
   "id": "ce3f7c40-cb01-4c7e-abee-6cb18c354850",
   "metadata": {},
   "outputs": [],
   "source": [
    "import torch\n",
    "import numpy as np\n",
    "import pandas as pd\n",
    "import os\n",
    "from torch_geometric.data import Data, InMemoryDataset\n",
    "from torch_geometric.loader import DataLoader\n",
    "from shutil import copyfile\n",
    "from dataclasses import dataclass\n",
    "from torch_geometric import utils\n",
    "import networkx as nx\n",
    "from pyvis.network import Network\n",
    "import torch.nn.functional as F\n",
    "from torch_geometric.nn import GATConv\n",
    "from tqdm import tqdm\n",
    "from torch.utils.tensorboard import SummaryWriter\n",
    "import time"
   ]
  },
  {
   "cell_type": "code",
   "execution_count": 21,
   "id": "37dc939d-97cb-4d37-a742-9220adf3bb43",
   "metadata": {},
   "outputs": [],
   "source": [
    "def distance_to_weight(W, sigma2=0.1, epsilon=0.5, gat_version=False):\n",
    "    n = W.shape[0]\n",
    "    W = W / 10000.\n",
    "    W2, W_mask = W * W, np.ones([n,n]) - np.identity(n)\n",
    "\n",
    "    W = np.exp(-W2 / sigma2) * (np.exp(-W2 / sigma2) >= epsilon) * W_mask\n",
    "    if gat_version:\n",
    "        W[W>0] = 1\n",
    "        W += np.identity(n)\n",
    "\n",
    "    return W"
   ]
  },
  {
   "cell_type": "code",
   "execution_count": 22,
   "id": "427cd276-e3ef-4a9b-a7d8-febffb1804ae",
   "metadata": {},
   "outputs": [],
   "source": [
    "def z_score(x, mean, std):\n",
    "    return (x - mean) / std\n",
    "\n",
    "def un_z_score(x_normed, mean, std):\n",
    "    return x_normed * std + mean\n",
    "\n",
    "def MAPE(y_true, y_pred):\n",
    "    return torch.mean(torch.abs(y_true - y_pred) / (y_true + 1e-15) * 100)\n",
    "\n",
    "def RMSE(y_true, y_pred):\n",
    "    return torch.sqrt(torch.mean((y_true - y_pred)**2))\n",
    "\n",
    "def MAE(y_true, y_pred):\n",
    "    return torch.mean(torch.abs(y_true - y_pred))"
   ]
  },
  {
   "cell_type": "code",
   "execution_count": 23,
   "id": "127ccc41-193e-4da8-80a1-7f780db45d50",
   "metadata": {},
   "outputs": [],
   "source": [
    "class TrafficDataset(InMemoryDataset):\n",
    "    def __init__(self, config, W, root='', transform=None, pre_transform=None):\n",
    "        self.config = config\n",
    "        self.W = W\n",
    "        super().__init__(root, transform, pre_transform)\n",
    "        self.data, self.slices, self.n_node, self.mean, self.std = torch.load(self.processed_paths[0])\n",
    "\n",
    "    @property\n",
    "    def raw_file_names(self):\n",
    "        return [os.path.join(self.raw_dir, \"PeMSD7_V_228.csv\")]\n",
    "\n",
    "    @property\n",
    "    def processed_file_names(self):\n",
    "        return [\"./data.pt\"]\n",
    "\n",
    "    def download(self):\n",
    "        copyfile(\"PeMSD7_V_228.csv\", os.path.join(self.raw_dir, \"PeMSD7_V_228.csv\"))\n",
    "\n",
    "    def process(self):\n",
    "        data = pd.read_csv(self.raw_file_names[0], header=None).values\n",
    "        mean = np.mean(data)\n",
    "        std = np.std(data)\n",
    "        data = z_score(data, mean, std)\n",
    "\n",
    "        n_node = data.shape[1]\n",
    "        n_window = self.config.N_PRED + self.config.N_HIST\n",
    "\n",
    "        edge_index = torch.zeros((2, n_node**2), dtype=torch.long)\n",
    "        edge_attr = torch.zeros((n_node**2, 1))\n",
    "\n",
    "        num_edges = 0\n",
    "        for i in range(n_node):\n",
    "            for j in range(n_node):\n",
    "                if self.W[i, j] != 0.:\n",
    "                    edge_index[0, num_edges] = i\n",
    "                    edge_index[1, num_edges] = j\n",
    "                    edge_attr[num_edges] = W[i, j]\n",
    "                    num_edges += 1\n",
    "\n",
    "        edge_index = edge_index.resize_(2, num_edges)\n",
    "        edge_attr = edge_attr.resize_(num_edges, 1)\n",
    "\n",
    "        sequences = []\n",
    "        for i in range(self.config.N_DAYS):\n",
    "            for j in range(self.config.N_SLOTS):\n",
    "                g = Data()\n",
    "                g.__num_nodes__ = n_node\n",
    "\n",
    "                g.edge_index = edge_index\n",
    "                g.edge_attr = edge_attr\n",
    "\n",
    "                start = i * self.config.N_DAYS_SLOT + j\n",
    "                end = start + n_window\n",
    "\n",
    "                full_window = data[start:end, :].T\n",
    "                g.x = torch.tensor(full_window[:, :self.config.N_HIST], dtype=torch.float)\n",
    "                g.y = torch.tensor(full_window[:, self.config.N_HIST:], dtype=torch.float)\n",
    "                sequences += [g]\n",
    "\n",
    "        data, slices = self.collate(sequences)\n",
    "        torch.save((data, slices, n_node, mean, std), self.processed_paths[0])\n",
    "\n",
    "    def get_splits(dataset, n_slots, splits):\n",
    "        split_train, split_val, _ = splits\n",
    "        i = n_slots*split_train\n",
    "        j = n_slots*split_val\n",
    "        train = dataset[:i]\n",
    "        val = dataset[i:i+j]\n",
    "        test = dataset[i+j:]\n",
    "\n",
    "        return train, val, test"
   ]
  },
  {
   "cell_type": "code",
   "execution_count": 24,
   "id": "58ab1187-c3ee-4537-a193-52fd8be8aacf",
   "metadata": {},
   "outputs": [],
   "source": [
    "@dataclass\n",
    "class Config:\n",
    "    BATCH_SIZE = 50\n",
    "    EPOCHS = 60\n",
    "    WEIGHT_DECAY = 5e-5\n",
    "    INITIAL_LR = 3e-4\n",
    "    CHECKPOINT_DIR = './runs'\n",
    "    N_PRED = 9\n",
    "    N_HIST = 12\n",
    "    DROPOUT = 0.2\n",
    "    N_DAYS_SLOT = 288\n",
    "    N_DAYS = 44\n",
    "    USE_GAT_WEIGHTS = True\n",
    "    N_NODE = 228\n",
    "    N_SLOTS = N_DAYS_SLOT - (N_PRED + N_HIST)\n",
    "\n",
    "config = Config()"
   ]
  },
  {
   "cell_type": "code",
   "execution_count": 25,
   "id": "cbea40a8-22d6-4ff3-828e-2c6aaaf8b951",
   "metadata": {},
   "outputs": [
    {
     "name": "stderr",
     "output_type": "stream",
     "text": [
      "Processing...\n",
      "Done!\n"
     ]
    }
   ],
   "source": [
    "distances = pd.read_csv(\"PeMSD7_W_228.csv\", header=None).values\n",
    "W = distance_to_weight(distances, gat_version=config.USE_GAT_WEIGHTS)\n",
    "dataset = TrafficDataset(config, W)"
   ]
  },
  {
   "cell_type": "code",
   "execution_count": 26,
   "id": "8a1259a6-e0a6-4739-a5fb-1cb3facb999c",
   "metadata": {},
   "outputs": [
    {
     "name": "stdout",
     "output_type": "stream",
     "text": [
      "Warning: When  cdn_resources is 'local' jupyter notebook has issues displaying graphics on chrome/safari. Use cdn_resources='in_line' or cdn_resources='remote' if you have issues viewing graphics in a notebook.\n"
     ]
    }
   ],
   "source": [
    "ng = utils.to_networkx(dataset[1])\n",
    "pg = Network(height=\"750px\", width=\"100%\", bgcolor=\"#222222\", font_color=\"white\", notebook=True)\n",
    "pg.from_nx(ng)"
   ]
  },
  {
   "cell_type": "code",
   "execution_count": 27,
   "id": "ef52eda7-72f0-4e00-8c3a-e8ac2ae44d99",
   "metadata": {},
   "outputs": [
    {
     "data": {
      "image/png": "[encoded data removed]",
      "text/plain": [
       "<Figure size 640x480 with 1 Axes>"
      ]
     },
     "metadata": {},
     "output_type": "display_data"
    }
   ],
   "source": [
    "nx.draw(ng)"
   ]
  },
  {
   "cell_type": "code",
   "execution_count": 28,
   "id": "863e3f37-29b6-409f-9414-4cf9007fc46d",
   "metadata": {},
   "outputs": [
    {
     "name": "stdout",
     "output_type": "stream",
     "text": [
      "example.html\n"
     ]
    },
    {
     "data": {
      "text/html": [
       "\n",
       "        <iframe\n",
       "            width=\"100%\"\n",
       "            height=\"750px\"\n",
       "            src=\"example.html\"\n",
       "            frameborder=\"0\"\n",
       "            allowfullscreen\n",
       "            \n",
       "        ></iframe>\n",
       "        "
      ],
      "text/plain": [
       "<IPython.lib.display.IFrame at 0x7f5e75caedd0>"
      ]
     },
     "execution_count": 28,
     "metadata": {},
     "output_type": "execute_result"
    }
   ],
   "source": [
    "pg.show(\"example.html\")"
   ]
  },
  {
   "cell_type": "code",
   "execution_count": 29,
   "id": "de206950-2b8c-4772-af9f-06fb78d6a456",
   "metadata": {},
   "outputs": [],
   "source": [
    "class ST_GAT(torch.nn.Module):\n",
    "    def __init__(self, input_dim, output_dim, n_nodes, heads=8, dropout=0.0):\n",
    "        super(ST_GAT, self).__init__()\n",
    "        self.n_pred = output_dim\n",
    "        self.heads = heads\n",
    "        self.dropout = dropout\n",
    "        self.n_nodes = n_nodes\n",
    "\n",
    "        self.n_preds = 9\n",
    "        lstm1_hidden_size = 32\n",
    "        lstm2_hidden_size = 128\n",
    "\n",
    "        self.gat = GATConv(input_dim, input_dim, heads=heads, dropout=0, concat=False)\n",
    "\n",
    "        self.lstm1 = torch.nn.LSTM(n_nodes, hidden_size=lstm1_hidden_size, num_layers=1)\n",
    "        for name, param in self.lstm1.named_parameters():\n",
    "            if \"bias\" in name:\n",
    "                torch.nn.init.constant_(param, 0.0)\n",
    "            elif \"weight\" in self.lstm1.named_parameters():\n",
    "                torch.nn.init.xavier_uniform_(param)\n",
    "\n",
    "        self.lstm2 = torch.nn.LSTM(lstm1_hidden_size, hidden_size=lstm2_hidden_size, num_layers=1)\n",
    "        for name, param in self.lstm2.named_parameters():\n",
    "            if \"bias\" in name:\n",
    "                torch.nn.init.constant_(param, 0.0)\n",
    "            elif \"weight\" in self.lstm2.named_parameters():\n",
    "                torch.nn.init.xavier_uniform_(param)\n",
    "\n",
    "        self.linear = torch.nn.Linear(lstm2_hidden_size, n_nodes*self.n_pred)\n",
    "        torch.nn.init.xavier_uniform_(self.linear.weight)\n",
    "\n",
    "    def forward(self, data, device):\n",
    "        x, edge_index = data.x, data.edge_index\n",
    "\n",
    "        if device == \"cpu\":\n",
    "            x = torch.FloatTensor(x)\n",
    "        else:\n",
    "            x = torch.cuda.FloatTensor(x)\n",
    "\n",
    "        x = self.gat(x, edge_index)\n",
    "        x = F.dropout(x, p=self.dropout, training=self.training)\n",
    "\n",
    "        batch_size = data.num_graphs\n",
    "        n_nodes = int(data.num_nodes / batch_size)\n",
    "        x = torch.reshape(x, (batch_size, n_nodes, data.num_features))\n",
    "\n",
    "        x = torch.movedim(x, 2, 0)\n",
    "        x, _ = self.lstm1(x)\n",
    "        x, _ = self.lstm2(x)\n",
    "\n",
    "        x = torch.squeeze(x[-1, :, :])\n",
    "        x = self.linear(x)\n",
    "\n",
    "        s = x.shape\n",
    "        x = torch.reshape(x, (s[0], self.n_nodes, self.n_pred))\n",
    "        x = torch.reshape(x, (s[0]*self.n_nodes, self.n_pred))\n",
    "\n",
    "        return x"
   ]
  },
  {
   "cell_type": "code",
   "execution_count": 30,
   "id": "790e31b0-373f-42a5-8c9e-be0817c7adbc",
   "metadata": {},
   "outputs": [],
   "source": [
    "@torch.no_grad()\n",
    "def eval(model, device, dataloader, type=''):\n",
    "    model.eval()\n",
    "    model.to(device)\n",
    "\n",
    "    mae = rmse = mape = n = 0\n",
    "    for i, batch in enumerate(dataloader):\n",
    "        batch = batch.to(device)\n",
    "        if batch.x.shape[0] == 1:\n",
    "            pass\n",
    "        else:\n",
    "            with torch.no_grad():\n",
    "                pred = model(batch, device)\n",
    "            truth = batch.y.view(pred.shape)\n",
    "            if i == 0:\n",
    "                y_pred = torch.zeros(len(dataloader), pred.shape[0], pred.shape[1])\n",
    "                y_truth = torch.zeros(len(dataloader), pred.shape[0], pred.shape[1])\n",
    "\n",
    "            truth = un_z_score(truth, dataloader.dataset.mean, dataloader.dataset.std)\n",
    "            pred = un_z_score(pred, dataloader.dataset.mean, dataloader.dataset.std)\n",
    "\n",
    "            y_pred[i, :pred.shape[0], :] = pred\n",
    "            y_truth[i, :pred.shape[0], :] = truth\n",
    "\n",
    "            rmse += RMSE(truth, pred)\n",
    "            mae += MAE(truth, pred)\n",
    "            mape += MAPE(truth, pred)\n",
    "            n += 1\n",
    "    rmse, mae, mape = rmse/n, mae/n, mape/n\n",
    "    print(f\"{type}, MAE : {mae}, RMSE : {rmse}, MAPE : {mape}\")\n",
    "\n",
    "    return rmse, mae, mape, y_pred, y_truth"
   ]
  },
  {
   "cell_type": "code",
   "execution_count": 31,
   "id": "8c9d192e-a57c-486f-9fc8-42827c6cc898",
   "metadata": {},
   "outputs": [],
   "source": [
    "def train(model, device, dataloader, optimizer, loss_fn, epoch):\n",
    "    model.train()\n",
    "    for _, batch in enumerate(tqdm(dataloader, desc=f\"Epoch {epoch}\")):\n",
    "        batch = batch.to(device)\n",
    "        optimizer.zero_grad()\n",
    "        y_pred = torch.squeeze(model(batch, device))\n",
    "        loss = loss_fn(y_pred.float(), torch.squeeze(batch.y).float())\n",
    "        writer.add_scalar(\"Loss / Train\", loss, epoch)\n",
    "        loss.backward()\n",
    "        optimizer.step()\n",
    "\n",
    "    return loss"
   ]
  },
  {
   "cell_type": "code",
   "execution_count": 32,
   "id": "edf22c2b-a39c-41da-b017-26fae6f8e3f6",
   "metadata": {},
   "outputs": [],
   "source": [
    "def model_train(train_dataloader, val_dataloader, config, device):\n",
    "    model = ST_GAT(input_dim=config.N_HIST, output_dim=config.N_PRED, n_nodes=config.N_NODE, dropout=config.DROPOUT)\n",
    "    optimizer = torch.optim.Adam(model.parameters(), lr=config.INITIAL_LR, weight_decay=config.WEIGHT_DECAY)\n",
    "    loss_fn = torch.nn.MSELoss()\n",
    "\n",
    "    model.to(device)\n",
    "\n",
    "    for epoch in range(config.EPOCHS):\n",
    "        loss = train(model, device, train_dataloader, optimizer, loss_fn, epoch)\n",
    "        print(f\"Loss: {loss:.3f}\")\n",
    "        if epoch % 5 == 0:\n",
    "            train_mae, train_rmse, train_mape, _, _ = eval(model, device, train_dataloader, \"Train\")\n",
    "            val_mae, val_rmse, val_mape, _, _ = eval(model, device, val_dataloader, \"Valid\")\n",
    "            writer.add_scalar(f\"MAE/train\", train_mae, epoch)\n",
    "            writer.add_scalar(f\"RMSE/train\", train_rmse, epoch)\n",
    "            writer.add_scalar(f\"MAPE/train\", train_mape, epoch)\n",
    "            writer.add_scalar(f\"MAE/val\", val_mae, epoch)\n",
    "            writer.add_scalar(f\"RMSE/val\", val_rmse, epoch)\n",
    "            writer.add_scalar(f\"MAPE/val\", val_mape, epoch)\n",
    "\n",
    "    writer.flush()\n",
    "    timestr = time.strftime(\"%m-%d-%H%M%S\")\n",
    "    torch.save({\n",
    "        \"epoch\": epoch,\n",
    "        \"model_state_dict\": model.state_dict(),\n",
    "        \"opimizer_state_dict\": optimizer.state_dict(),\n",
    "        \"loss\": loss\n",
    "    }, os.path.join(config.CHECKPOINT_DIR, f\"model_{timestr}.pt\"))\n",
    "\n",
    "    return model"
   ]
  },
  {
   "cell_type": "code",
   "execution_count": 33,
   "id": "f0863881-6334-4b83-a6cc-6d7b825019ac",
   "metadata": {},
   "outputs": [],
   "source": [
    "def model_test(model, test_dataloader, device, config):\n",
    "    _, _, _, y_pred, y_truth = eval(model, device, test_dataloader, \"Test\")"
   ]
  },
  {
   "cell_type": "code",
   "execution_count": 34,
   "id": "229eb59c-5add-40f8-bdb8-502f17c825b3",
   "metadata": {},
   "outputs": [],
   "source": [
    "d_train, d_val, d_test = dataset.get_splits(config.N_SLOTS, (34, 5, 5))\n",
    "train_dataloader = DataLoader(d_train, batch_size=config.BATCH_SIZE, shuffle=True)\n",
    "val_dataloader = DataLoader(d_val, batch_size=config.BATCH_SIZE, shuffle=True)\n",
    "test_dataloader = DataLoader(d_test, batch_size=config.BATCH_SIZE, shuffle=False)"
   ]
  },
  {
   "cell_type": "code",
   "execution_count": 35,
   "id": "b0b3cba7-a2b4-42f0-99a3-7a2711bee55d",
   "metadata": {},
   "outputs": [
    {
     "name": "stdout",
     "output_type": "stream",
     "text": [
      "Using cpu\n"
     ]
    }
   ],
   "source": [
    "device = \"cuda\" if torch.cuda.is_available() else \"cpu\"\n",
    "print(f\"Using {device}\")"
   ]
  },
  {
   "cell_type": "code",
   "execution_count": 36,
   "id": "0e316de2-26ef-4439-89ca-dd641e4c83f3",
   "metadata": {},
   "outputs": [],
   "source": [
    "config.N_NODE = dataset.n_node"
   ]
  },
  {
   "cell_type": "code",
   "execution_count": 37,
   "id": "2d3343ba-142a-4bdd-ba03-33b0b01e0ff9",
   "metadata": {},
   "outputs": [],
   "source": [
    "writer = SummaryWriter()"
   ]
  },
  {
   "cell_type": "code",
   "execution_count": 38,
   "id": "6952b731-f7b8-44d1-a7cf-73cf69c0c456",
   "metadata": {
    "scrolled": true
   },
   "outputs": [
    {
     "name": "stderr",
     "output_type": "stream",
     "text": [
      "Epoch 0: 100%|████████████████████████████████████████████████████████████████████████| 182/182 [01:46<00:00,  1.70it/s]\n"
     ]
    },
    {
     "name": "stdout",
     "output_type": "stream",
     "text": [
      "Loss: 0.395\n",
      "Train, MAE : 4.800570011138916, RMSE : 7.7068562507629395, MAPE : 12.819315910339355\n",
      "Valid, MAE : 4.856338024139404, RMSE : 7.659911155700684, MAPE : 13.054655075073242\n"
     ]
    },
    {
     "name": "stderr",
     "output_type": "stream",
     "text": [
      "Epoch 1: 100%|████████████████████████████████████████████████████████████████████████| 182/182 [00:26<00:00,  6.77it/s]\n"
     ]
    },
    {
     "name": "stdout",
     "output_type": "stream",
     "text": [
      "Loss: 0.243\n"
     ]
    },
    {
     "name": "stderr",
     "output_type": "stream",
     "text": [
      "Epoch 2: 100%|████████████████████████████████████████████████████████████████████████| 182/182 [00:29<00:00,  6.07it/s]\n"
     ]
    },
    {
     "name": "stdout",
     "output_type": "stream",
     "text": [
      "Loss: 0.242\n"
     ]
    },
    {
     "name": "stderr",
     "output_type": "stream",
     "text": [
      "Epoch 3: 100%|████████████████████████████████████████████████████████████████████████| 182/182 [01:47<00:00,  1.70it/s]\n"
     ]
    },
    {
     "name": "stdout",
     "output_type": "stream",
     "text": [
      "Loss: 0.199\n"
     ]
    },
    {
     "name": "stderr",
     "output_type": "stream",
     "text": [
      "Epoch 4:  29%|█████████████████████▎                                                   | 53/182 [00:17<00:42,  3.05it/s]\n"
     ]
    },
    {
     "ename": "KeyboardInterrupt",
     "evalue": "",
     "output_type": "error",
     "traceback": [
      "\u001b[0;31m---------------------------------------------------------------------------\u001b[0m",
      "\u001b[0;31mKeyboardInterrupt\u001b[0m                         Traceback (most recent call last)",
      "Cell \u001b[0;32mIn[38], line 1\u001b[0m\n\u001b[0;32m----> 1\u001b[0m model \u001b[38;5;241m=\u001b[39m \u001b[43mmodel_train\u001b[49m\u001b[43m(\u001b[49m\u001b[43mtrain_dataloader\u001b[49m\u001b[43m,\u001b[49m\u001b[43m \u001b[49m\u001b[43mval_dataloader\u001b[49m\u001b[43m,\u001b[49m\u001b[43m \u001b[49m\u001b[43mconfig\u001b[49m\u001b[43m,\u001b[49m\u001b[43m \u001b[49m\u001b[43mdevice\u001b[49m\u001b[43m)\u001b[49m\n",
      "Cell \u001b[0;32mIn[32], line 9\u001b[0m, in \u001b[0;36mmodel_train\u001b[0;34m(train_dataloader, val_dataloader, config, device)\u001b[0m\n\u001b[1;32m      6\u001b[0m model\u001b[38;5;241m.\u001b[39mto(device)\n\u001b[1;32m      8\u001b[0m \u001b[38;5;28;01mfor\u001b[39;00m epoch \u001b[38;5;129;01min\u001b[39;00m \u001b[38;5;28mrange\u001b[39m(config\u001b[38;5;241m.\u001b[39mEPOCHS):\n\u001b[0;32m----> 9\u001b[0m     loss \u001b[38;5;241m=\u001b[39m \u001b[43mtrain\u001b[49m\u001b[43m(\u001b[49m\u001b[43mmodel\u001b[49m\u001b[43m,\u001b[49m\u001b[43m \u001b[49m\u001b[43mdevice\u001b[49m\u001b[43m,\u001b[49m\u001b[43m \u001b[49m\u001b[43mtrain_dataloader\u001b[49m\u001b[43m,\u001b[49m\u001b[43m \u001b[49m\u001b[43moptimizer\u001b[49m\u001b[43m,\u001b[49m\u001b[43m \u001b[49m\u001b[43mloss_fn\u001b[49m\u001b[43m,\u001b[49m\u001b[43m \u001b[49m\u001b[43mepoch\u001b[49m\u001b[43m)\u001b[49m\n\u001b[1;32m     10\u001b[0m     \u001b[38;5;28mprint\u001b[39m(\u001b[38;5;124mf\u001b[39m\u001b[38;5;124m\"\u001b[39m\u001b[38;5;124mLoss: \u001b[39m\u001b[38;5;132;01m{\u001b[39;00mloss\u001b[38;5;132;01m:\u001b[39;00m\u001b[38;5;124m.3f\u001b[39m\u001b[38;5;132;01m}\u001b[39;00m\u001b[38;5;124m\"\u001b[39m)\n\u001b[1;32m     11\u001b[0m     \u001b[38;5;28;01mif\u001b[39;00m epoch \u001b[38;5;241m%\u001b[39m \u001b[38;5;241m5\u001b[39m \u001b[38;5;241m==\u001b[39m \u001b[38;5;241m0\u001b[39m:\n",
      "Cell \u001b[0;32mIn[31], line 9\u001b[0m, in \u001b[0;36mtrain\u001b[0;34m(model, device, dataloader, optimizer, loss_fn, epoch)\u001b[0m\n\u001b[1;32m      7\u001b[0m     loss \u001b[38;5;241m=\u001b[39m loss_fn(y_pred\u001b[38;5;241m.\u001b[39mfloat(), torch\u001b[38;5;241m.\u001b[39msqueeze(batch\u001b[38;5;241m.\u001b[39my)\u001b[38;5;241m.\u001b[39mfloat())\n\u001b[1;32m      8\u001b[0m     writer\u001b[38;5;241m.\u001b[39madd_scalar(\u001b[38;5;124m\"\u001b[39m\u001b[38;5;124mLoss / Train\u001b[39m\u001b[38;5;124m\"\u001b[39m, loss, epoch)\n\u001b[0;32m----> 9\u001b[0m     \u001b[43mloss\u001b[49m\u001b[38;5;241;43m.\u001b[39;49m\u001b[43mbackward\u001b[49m\u001b[43m(\u001b[49m\u001b[43m)\u001b[49m\n\u001b[1;32m     10\u001b[0m     optimizer\u001b[38;5;241m.\u001b[39mstep()\n\u001b[1;32m     12\u001b[0m \u001b[38;5;28;01mreturn\u001b[39;00m loss\n",
      "File \u001b[0;32m~/.local/lib/python3.10/site-packages/torch/_tensor.py:525\u001b[0m, in \u001b[0;36mTensor.backward\u001b[0;34m(self, gradient, retain_graph, create_graph, inputs)\u001b[0m\n\u001b[1;32m    515\u001b[0m \u001b[38;5;28;01mif\u001b[39;00m has_torch_function_unary(\u001b[38;5;28mself\u001b[39m):\n\u001b[1;32m    516\u001b[0m     \u001b[38;5;28;01mreturn\u001b[39;00m handle_torch_function(\n\u001b[1;32m    517\u001b[0m         Tensor\u001b[38;5;241m.\u001b[39mbackward,\n\u001b[1;32m    518\u001b[0m         (\u001b[38;5;28mself\u001b[39m,),\n\u001b[0;32m   (...)\u001b[0m\n\u001b[1;32m    523\u001b[0m         inputs\u001b[38;5;241m=\u001b[39minputs,\n\u001b[1;32m    524\u001b[0m     )\n\u001b[0;32m--> 525\u001b[0m \u001b[43mtorch\u001b[49m\u001b[38;5;241;43m.\u001b[39;49m\u001b[43mautograd\u001b[49m\u001b[38;5;241;43m.\u001b[39;49m\u001b[43mbackward\u001b[49m\u001b[43m(\u001b[49m\n\u001b[1;32m    526\u001b[0m \u001b[43m    \u001b[49m\u001b[38;5;28;43mself\u001b[39;49m\u001b[43m,\u001b[49m\u001b[43m \u001b[49m\u001b[43mgradient\u001b[49m\u001b[43m,\u001b[49m\u001b[43m \u001b[49m\u001b[43mretain_graph\u001b[49m\u001b[43m,\u001b[49m\u001b[43m \u001b[49m\u001b[43mcreate_graph\u001b[49m\u001b[43m,\u001b[49m\u001b[43m \u001b[49m\u001b[43minputs\u001b[49m\u001b[38;5;241;43m=\u001b[39;49m\u001b[43minputs\u001b[49m\n\u001b[1;32m    527\u001b[0m \u001b[43m\u001b[49m\u001b[43m)\u001b[49m\n",
      "File \u001b[0;32m~/.local/lib/python3.10/site-packages/torch/autograd/__init__.py:267\u001b[0m, in \u001b[0;36mbackward\u001b[0;34m(tensors, grad_tensors, retain_graph, create_graph, grad_variables, inputs)\u001b[0m\n\u001b[1;32m    262\u001b[0m     retain_graph \u001b[38;5;241m=\u001b[39m create_graph\n\u001b[1;32m    264\u001b[0m \u001b[38;5;66;03m# The reason we repeat the same comment below is that\u001b[39;00m\n\u001b[1;32m    265\u001b[0m \u001b[38;5;66;03m# some Python versions print out the first line of a multi-line function\u001b[39;00m\n\u001b[1;32m    266\u001b[0m \u001b[38;5;66;03m# calls in the traceback and some print out the last line\u001b[39;00m\n\u001b[0;32m--> 267\u001b[0m \u001b[43m_engine_run_backward\u001b[49m\u001b[43m(\u001b[49m\n\u001b[1;32m    268\u001b[0m \u001b[43m    \u001b[49m\u001b[43mtensors\u001b[49m\u001b[43m,\u001b[49m\n\u001b[1;32m    269\u001b[0m \u001b[43m    \u001b[49m\u001b[43mgrad_tensors_\u001b[49m\u001b[43m,\u001b[49m\n\u001b[1;32m    270\u001b[0m \u001b[43m    \u001b[49m\u001b[43mretain_graph\u001b[49m\u001b[43m,\u001b[49m\n\u001b[1;32m    271\u001b[0m \u001b[43m    \u001b[49m\u001b[43mcreate_graph\u001b[49m\u001b[43m,\u001b[49m\n\u001b[1;32m    272\u001b[0m \u001b[43m    \u001b[49m\u001b[43minputs\u001b[49m\u001b[43m,\u001b[49m\n\u001b[1;32m    273\u001b[0m \u001b[43m    \u001b[49m\u001b[43mallow_unreachable\u001b[49m\u001b[38;5;241;43m=\u001b[39;49m\u001b[38;5;28;43;01mTrue\u001b[39;49;00m\u001b[43m,\u001b[49m\n\u001b[1;32m    274\u001b[0m \u001b[43m    \u001b[49m\u001b[43maccumulate_grad\u001b[49m\u001b[38;5;241;43m=\u001b[39;49m\u001b[38;5;28;43;01mTrue\u001b[39;49;00m\u001b[43m,\u001b[49m\n\u001b[1;32m    275\u001b[0m \u001b[43m\u001b[49m\u001b[43m)\u001b[49m\n",
      "File \u001b[0;32m~/.local/lib/python3.10/site-packages/torch/autograd/graph.py:744\u001b[0m, in \u001b[0;36m_engine_run_backward\u001b[0;34m(t_outputs, *args, **kwargs)\u001b[0m\n\u001b[1;32m    742\u001b[0m     unregister_hooks \u001b[38;5;241m=\u001b[39m _register_logging_hooks_on_whole_graph(t_outputs)\n\u001b[1;32m    743\u001b[0m \u001b[38;5;28;01mtry\u001b[39;00m:\n\u001b[0;32m--> 744\u001b[0m     \u001b[38;5;28;01mreturn\u001b[39;00m \u001b[43mVariable\u001b[49m\u001b[38;5;241;43m.\u001b[39;49m\u001b[43m_execution_engine\u001b[49m\u001b[38;5;241;43m.\u001b[39;49m\u001b[43mrun_backward\u001b[49m\u001b[43m(\u001b[49m\u001b[43m  \u001b[49m\u001b[38;5;66;43;03m# Calls into the C++ engine to run the backward pass\u001b[39;49;00m\n\u001b[1;32m    745\u001b[0m \u001b[43m        \u001b[49m\u001b[43mt_outputs\u001b[49m\u001b[43m,\u001b[49m\u001b[43m \u001b[49m\u001b[38;5;241;43m*\u001b[39;49m\u001b[43margs\u001b[49m\u001b[43m,\u001b[49m\u001b[43m \u001b[49m\u001b[38;5;241;43m*\u001b[39;49m\u001b[38;5;241;43m*\u001b[39;49m\u001b[43mkwargs\u001b[49m\n\u001b[1;32m    746\u001b[0m \u001b[43m    \u001b[49m\u001b[43m)\u001b[49m  \u001b[38;5;66;03m# Calls into the C++ engine to run the backward pass\u001b[39;00m\n\u001b[1;32m    747\u001b[0m \u001b[38;5;28;01mfinally\u001b[39;00m:\n\u001b[1;32m    748\u001b[0m     \u001b[38;5;28;01mif\u001b[39;00m attach_logging_hooks:\n",
      "\u001b[0;31mKeyboardInterrupt\u001b[0m: "
     ]
    }
   ],
   "source": [
    "model = model_train(train_dataloader, val_dataloader, config, device)"
   ]
  },
  {
   "cell_type": "code",
   "execution_count": null,
   "id": "74a68c5b-a41e-4fa9-9c32-aa5b70520387",
   "metadata": {},
   "outputs": [],
   "source": []
  }
 ],
 "metadata": {
  "kernelspec": {
   "display_name": "Python 3 (ipykernel)",
   "language": "python",
   "name": "python3"
  },
  "language_info": {
   "codemirror_mode": {
    "name": "ipython",
    "version": 3
   },
   "file_extension": ".py",
   "mimetype": "text/x-python",
   "name": "python",
   "nbconvert_exporter": "python",
   "pygments_lexer": "ipython3",
   "version": "3.10.12"
  }
 },
 "nbformat": 4,
 "nbformat_minor": 5
}
