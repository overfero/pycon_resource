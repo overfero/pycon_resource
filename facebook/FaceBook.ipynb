{
 "cells": [
  {
   "cell_type": "code",
   "execution_count": 169,
   "id": "80b0b2ed-bff7-4f15-9189-84f397837336",
   "metadata": {},
   "outputs": [],
   "source": [
    "import torch\n",
    "import torch_geometric as pyg\n",
    "import numpy as np\n",
    "import torch.nn as nn\n",
    "import pandas as pd\n",
    "import networkx as nx\n",
    "import pyvis\n",
    "from pyvis.network import Network\n",
    "from torch_geometric.transforms import RandomLinkSplit, RandomNodeSplit\n",
    "from torch_geometric.nn import SAGEConv, GCNConv\n",
    "from sklearn.metrics import roc_auc_score\n",
    "import itertools\n",
    "import torch.nn.functional as F\n",
    "from tqdm import tqdm\n",
    "from torch_geometric.loader import DataLoader, LinkNeighborLoader, NeighborLoader\n",
    "import torch_geometric.utils as utils\n",
    "from sklearn.metrics import accuracy_score\n",
    "import matplotlib.pyplot as plt\n",
    "from sklearn.preprocessing import StandardScaler"
   ]
  },
  {
   "cell_type": "code",
   "execution_count": 55,
   "id": "78f5563f-bb48-44e6-94b3-35cea0a9556a",
   "metadata": {
    "scrolled": true
   },
   "outputs": [],
   "source": [
    "!wget http://snap.stanford.edu/data/facebook.tar.gz\n",
    "!tar -xvf \"facebook.tar.gz\""
   ]
  },
  {
   "cell_type": "code",
   "execution_count": 4,
   "id": "7ec7597c-74e9-4662-91d4-441300991b9c",
   "metadata": {},
   "outputs": [],
   "source": [
    "# [0, 348, 414, 686, 698, 107, 3437, 1684, 1912, 3980]"
   ]
  },
  {
   "cell_type": "code",
   "execution_count": 170,
   "id": "7bb48501-bfe4-4ee7-af50-bc9e61049577",
   "metadata": {},
   "outputs": [],
   "source": [
    "USER = 0\n",
    "\n",
    "file_edges = f'facebook/{USER}.edges'\n",
    "file_feat = f'facebook/{USER}.feat'\n",
    "\n",
    "edges = pd.read_csv(file_edges, sep=\" \", header=None, names=[\"u\", \"v\"])\n",
    "feat = pd.read_csv(file_feat, sep=\" \", header=None)"
   ]
  },
  {
   "cell_type": "code",
   "execution_count": 171,
   "id": "cf00b781-a9d0-4c64-bb91-c0255465fb03",
   "metadata": {},
   "outputs": [],
   "source": [
    "mapping = {x:i for i, x in enumerate(feat[0].unique())}"
   ]
  },
  {
   "cell_type": "code",
   "execution_count": 172,
   "id": "5ba58465-5ac5-454e-af26-62f87a4f4101",
   "metadata": {},
   "outputs": [],
   "source": [
    "feat[0] = feat[0].map(mapping)\n",
    "edges.u = edges.u.map(mapping)\n",
    "edges.v = edges.v.map(mapping)"
   ]
  },
  {
   "cell_type": "code",
   "execution_count": 173,
   "id": "f1ba24d9-516f-4d18-b0b0-1d659c508b23",
   "metadata": {},
   "outputs": [],
   "source": [
    "feat[0] = np.random.randint(0,2, 347)"
   ]
  },
  {
   "cell_type": "code",
   "execution_count": 174,
   "id": "4ec99ebc-6447-48d5-8a63-d6c2c8077ce9",
   "metadata": {},
   "outputs": [],
   "source": [
    "edges = torch.tensor(edges.to_numpy().T, dtype=torch.int64)\n",
    "feat = torch.tensor(feat.sort_values(by=0).to_numpy(), dtype=torch.float)"
   ]
  },
  {
   "cell_type": "code",
   "execution_count": 175,
   "id": "395e605a-eba8-445d-bc6d-c1fefad185ed",
   "metadata": {},
   "outputs": [
    {
     "data": {
      "text/plain": [
       "Data(x=[347, 224], edge_index=[2, 5038])"
      ]
     },
     "execution_count": 175,
     "metadata": {},
     "output_type": "execute_result"
    }
   ],
   "source": [
    "g = pyg.data.Data(x = feat[:, 1:], edge_index=edges)\n",
    "g"
   ]
  },
  {
   "cell_type": "code",
   "execution_count": 176,
   "id": "a3a22374-4d9c-4ca4-b17d-9c0fb3b0dba9",
   "metadata": {
    "scrolled": true
   },
   "outputs": [],
   "source": [
    "n_g = pyg.utils.to_networkx(g)\n",
    "# nx.draw(n_g)"
   ]
  },
  {
   "cell_type": "code",
   "execution_count": 179,
   "id": "0140a2e7-8021-4adf-9b83-4ab85333f14e",
   "metadata": {},
   "outputs": [],
   "source": [
    "pyvis_graph = Network(height=\"750px\", width=\"100%\", bgcolor=\"#222222\", font_color=\"white\", notebook=True)\n",
    "pyvis_graph.from_nx(n_g)"
   ]
  },
  {
   "cell_type": "code",
   "execution_count": 180,
   "id": "1f4c4845-764f-439e-85df-e9f1921c575c",
   "metadata": {},
   "outputs": [],
   "source": [
    "pyvis_graph.show(\"graph.html\")"
   ]
  },
  {
   "cell_type": "code",
   "execution_count": 213,
   "id": "f4a085ef-e673-4e4b-bc73-a2817c90e56d",
   "metadata": {},
   "outputs": [],
   "source": [
    "transform = RandomLinkSplit(\n",
    "    num_test=0.1, \n",
    "    num_val=0.1,\n",
    "    is_undirected=True,\n",
    "    split_labels=False, \n",
    "    add_negative_train_samples=False)\n",
    "train, test, val = transform(g)"
   ]
  },
  {
   "cell_type": "code",
   "execution_count": 214,
   "id": "89a98e0f-3ab5-40e6-a427-00f4231ec524",
   "metadata": {},
   "outputs": [
    {
     "name": "stdout",
     "output_type": "stream",
     "text": [
      "Data(x=[347, 224], edge_index=[2, 5038], y=[347], train_mask=[347], val_mask=[347], test_mask=[347])\n",
      "Data(x=[347, 224], edge_index=[2, 4034], edge_label=[2017], edge_label_index=[2, 2017])\n",
      "Data(x=[347, 224], edge_index=[2, 4034], edge_label=[502], edge_label_index=[2, 502])\n",
      "Data(x=[347, 224], edge_index=[2, 4536], edge_label=[502], edge_label_index=[2, 502])\n"
     ]
    }
   ],
   "source": [
    "print(data)\n",
    "print(train)\n",
    "print(test)\n",
    "print(val)"
   ]
  },
  {
   "cell_type": "code",
   "execution_count": 245,
   "id": "1ea8f98e-09b9-46a1-9a3c-83096a562a6c",
   "metadata": {},
   "outputs": [],
   "source": [
    "train_loader_ind = LinkNeighborLoader(train, num_neighbors=[25, 10], batch_size=128,\n",
    "                                      neg_sampling_ratio=1.0, edge_label=train.edge_label,\n",
    "                                      edge_label_index=train.edge_label_index,shuffle=True)\n",
    "val_loader_ind = LinkNeighborLoader(val, num_neighbors=[25, 10], edge_label=val.edge_label,\n",
    "                                    edge_label_index=val.edge_label_index, batch_size=128)\n",
    "test_loader_ind = LinkNeighborLoader(test, num_neighbors=[25, 10], edge_label=test.edge_label,\n",
    "                                     edge_label_index=test.edge_label_index, batch_size=128)"
   ]
  },
  {
   "cell_type": "code",
   "execution_count": 246,
   "id": "51663625-c8d6-4215-95ce-98147230ab9d",
   "metadata": {},
   "outputs": [
    {
     "name": "stdout",
     "output_type": "stream",
     "text": [
      "tensor([1., 1., 1., 1., 1., 1., 1., 1., 1., 1., 1., 1., 1., 1., 1., 1., 1., 1.,\n",
      "        1., 1., 1., 1., 1., 1., 1., 1., 1., 1., 1., 1., 1., 1., 1., 1., 1., 1.,\n",
      "        1., 1., 1., 1., 1., 1., 1., 1., 1., 1., 1., 1., 1., 1., 1., 1., 1., 1.,\n",
      "        1., 1., 1., 1., 1., 1., 1., 1., 1., 1., 1., 1., 1., 1., 1., 1., 1., 1.,\n",
      "        1., 1., 1., 1., 1., 1., 1., 1., 1., 1., 1., 1., 1., 1., 1., 1., 1., 1.,\n",
      "        1., 1., 1., 1., 1., 1., 1., 1., 1., 1., 1., 1., 1., 1., 1., 1., 1., 1.,\n",
      "        1., 1., 1., 1., 1., 1., 1., 1., 1., 1., 1., 1., 1., 1., 1., 1., 1., 1.,\n",
      "        1., 1.])\n"
     ]
    }
   ],
   "source": [
    "sample = next(iter(test_loader_ind))\n",
    "print(sample)"
   ]
  },
  {
   "cell_type": "code",
   "execution_count": 247,
   "id": "63969020-028a-46e2-a296-1488e07e21ca",
   "metadata": {},
   "outputs": [],
   "source": [
    "class EdgeClassificationSAGE(torch.nn.Module):\n",
    "    def __init__(self, in_channels, hidden_channels):\n",
    "        super().__init__()\n",
    "        self.conv1 = SAGEConv(in_channels, hidden_channels)\n",
    "        self.conv2 = SAGEConv(hidden_channels, hidden_channels)\n",
    "        \n",
    "        # Link predictor\n",
    "        self.lin1 = torch.nn.Linear(2 * hidden_channels, hidden_channels)\n",
    "        self.lin2 = torch.nn.Linear(hidden_channels, 1)\n",
    "    \n",
    "    def encode(self, x, edge_index):\n",
    "        x = self.conv1(x, edge_index)\n",
    "        x = F.relu(x)\n",
    "        x = F.dropout(x, p=0.2, training=self.training)\n",
    "        x = self.conv2(x, edge_index)\n",
    "        return x\n",
    "    \n",
    "    def decode(self, z, edge_index):\n",
    "        row, col = edge_index\n",
    "        z_src = z[row]\n",
    "        z_dst = z[col]\n",
    "        z_cat = torch.cat([z_src, z_dst], dim=-1)\n",
    "        \n",
    "        z_cat = self.lin1(z_cat)\n",
    "        z_cat = F.relu(z_cat)\n",
    "        z_cat = F.dropout(z_cat, p=0.2, training=self.training)\n",
    "        return self.lin2(z_cat).squeeze()\n",
    "    \n",
    "    def forward(self, x, edge_index, pred_edge_index):\n",
    "        z = self.encode(x, edge_index)\n",
    "        return self.decode(z, pred_edge_index)"
   ]
  },
  {
   "cell_type": "code",
   "execution_count": 263,
   "id": "7f510516-bccc-4f1f-9842-a14686521e8d",
   "metadata": {},
   "outputs": [],
   "source": [
    "def train_edge_classification(model, train_loader, val_loader, num_epochs=100):\n",
    "    optimizer = torch.optim.Adam(model.parameters(), lr=0.01)\n",
    "    \n",
    "    best_val_auc = 0\n",
    "\n",
    "    loss_track = []\n",
    "    for epoch in range(num_epochs):\n",
    "        # Training\n",
    "        model.train()\n",
    "        total_loss = 0\n",
    "        for batch in train_loader:\n",
    "            optimizer.zero_grad()\n",
    "            \n",
    "            out = model(batch.x, batch.edge_index, batch.edge_label_index)\n",
    "            loss = F.binary_cross_entropy_with_logits(out, batch.edge_label)\n",
    "            \n",
    "            loss.backward()\n",
    "            optimizer.step()\n",
    "            total_loss += loss.item()\n",
    "        \n",
    "        # Validation\n",
    "        loss_track.append(total_loss/len(train_loader))\n",
    "        model.eval()\n",
    "        val_preds = []\n",
    "        val_labels = []\n",
    "        with torch.no_grad():\n",
    "            for batch in val_loader:\n",
    "                out = model(batch.x, batch.edge_index, batch.edge_label_index)\n",
    "                val_preds.append(out)\n",
    "                val_labels.append(batch.edge_label)\n",
    "        \n",
    "        val_preds = torch.cat(val_preds, dim=0)\n",
    "        val_labels = torch.cat(val_labels, dim=0)\n",
    "        val_auc = roc_auc_score(val_labels.cpu(), val_preds.cpu())\n",
    "        \n",
    "        if val_auc > best_val_auc:\n",
    "            best_val_auc = val_auc\n",
    "        \n",
    "        if (epoch + 1) % 10 == 0:\n",
    "            print(f'Epoch {epoch+1:03d}, Loss: {total_loss/len(train_loader):.4f}, Val AUC: {val_auc:.4f}')\n",
    "\n",
    "    return loss_track"
   ]
  },
  {
   "cell_type": "code",
   "execution_count": 264,
   "id": "e5346406-a10e-49a9-8b78-0b8af5a02f4c",
   "metadata": {},
   "outputs": [
    {
     "name": "stdout",
     "output_type": "stream",
     "text": [
      "Epoch 010, Loss: 0.2945, Val AUC: 0.9398\n",
      "Epoch 020, Loss: 0.2508, Val AUC: 0.9324\n",
      "Epoch 030, Loss: 0.2670, Val AUC: 0.9442\n",
      "Epoch 040, Loss: 0.2339, Val AUC: 0.9554\n",
      "Epoch 050, Loss: 0.2277, Val AUC: 0.9568\n",
      "Epoch 060, Loss: 0.2071, Val AUC: 0.9583\n",
      "Epoch 070, Loss: 0.2036, Val AUC: 0.9533\n",
      "Epoch 080, Loss: 0.2158, Val AUC: 0.9528\n",
      "Epoch 090, Loss: 0.1981, Val AUC: 0.9502\n",
      "Epoch 100, Loss: 0.1850, Val AUC: 0.9571\n"
     ]
    }
   ],
   "source": [
    "model = EdgeClassificationSAGE(224, 128)\n",
    "\n",
    "loss = train_edge_classification(model, train_loader_ind, val_loader_ind, 100)"
   ]
  },
  {
   "cell_type": "code",
   "execution_count": 265,
   "id": "e7197f26-557e-4399-8a45-e30aeede8425",
   "metadata": {},
   "outputs": [
    {
     "data": {
      "text/plain": [
       "[<matplotlib.lines.Line2D at 0x7f99334d2ce0>]"
      ]
     },
     "execution_count": 265,
     "metadata": {},
     "output_type": "execute_result"
    },
    {
     "data": {
      "image/png": "[encoded data removed]",
      "text/plain": [
       "<Figure size 640x480 with 1 Axes>"
      ]
     },
     "metadata": {},
     "output_type": "display_data"
    }
   ],
   "source": [
    "plt.title(\"Loss\")\n",
    "plt.xlabel(\"Epoch\")\n",
    "plt.plot(loss)"
   ]
  },
  {
   "cell_type": "code",
   "execution_count": 266,
   "id": "7d460909-f6de-46bf-a8d1-42ecbb8c83ef",
   "metadata": {},
   "outputs": [],
   "source": [
    "# --------- generate recommendation for user -------- #\n",
    "def generate_rec(user_id=0, k=10):\n",
    "    user_friends = set()\n",
    "    user_neg_u, user_neg_v = [], []\n",
    "    \n",
    "    for n1, n2 in train.edge_index.T:   # get all friends of user_id\n",
    "        if int(n1) == user_id:\n",
    "            user_friends.add(int(n2))\n",
    "        if int(n2) == user_id:\n",
    "            user_friends.add(int(n1))\n",
    "\n",
    "    for i in range(train.x.shape[0]):  # generate \"negative edges\" for user_id\n",
    "        if i != user_id and i not in user_friends:\n",
    "            user_neg_u.append(user_id)\n",
    "            user_neg_v.append(i)\n",
    "            \n",
    "    model.eval()\n",
    "\n",
    "    loader = NeighborLoader(\n",
    "            g,\n",
    "            num_neighbors=[25, 10],\n",
    "            batch_size=len(user_neg_v+[user_id]),\n",
    "            input_nodes=user_neg_v+[user_id],\n",
    "            shuffle=False  # Keep order for mapping back to node IDs\n",
    "        )\n",
    "\n",
    "    \n",
    "    for batch in loader:\n",
    "        node_embed = model(batch.x, batch.edge_index, torch.stack([torch.tensor(user_neg_u), torch.tensor(user_neg_v)], dim=0))\n",
    "    # calculate the score of each user\n",
    "    scores = [(i, node_embed[i]) for i, v in enumerate(user_neg_v)]\n",
    "\n",
    "    # produce final ranked list\n",
    "    scores.sort(key=lambda x: -x[1])\n",
    "\n",
    "    # display results\n",
    "    print(f\"List of {k} suggested friends for user {user_id}:\")\n",
    "    for i in range(k):\n",
    "        print(f'- User {scores[i][0]}, score = {scores[i][1]}')\n"
   ]
  },
  {
   "cell_type": "code",
   "execution_count": 267,
   "id": "a656b769-4f6c-492c-8ceb-03adfa92519e",
   "metadata": {
    "scrolled": true
   },
   "outputs": [
    {
     "name": "stdout",
     "output_type": "stream",
     "text": [
      "List of 20 suggested friends for user 0:\n",
      "- User 305, score = 2.9730658531188965\n",
      "- User 314, score = 2.812474250793457\n",
      "- User 287, score = 2.7695672512054443\n",
      "- User 299, score = 2.76239013671875\n",
      "- User 199, score = 2.7022764682769775\n",
      "- User 205, score = 2.6949048042297363\n",
      "- User 130, score = 2.671621799468994\n",
      "- User 239, score = 2.6646971702575684\n",
      "- User 17, score = 2.619853973388672\n",
      "- User 125, score = 2.6151843070983887\n",
      "- User 122, score = 2.563253164291382\n",
      "- User 102, score = 2.5454416275024414\n",
      "- User 38, score = 2.543199062347412\n",
      "- User 193, score = 2.4597291946411133\n",
      "- User 143, score = 2.444223403930664\n",
      "- User 41, score = 2.4212849140167236\n",
      "- User 98, score = 2.414743423461914\n",
      "- User 103, score = 2.402740478515625\n",
      "- User 281, score = 2.3482251167297363\n",
      "- User 25, score = 2.0139009952545166\n"
     ]
    }
   ],
   "source": [
    "generate_rec(user_id=0, k=20)"
   ]
  },
  {
   "cell_type": "code",
   "execution_count": null,
   "id": "5b00256b-43e7-413c-ae1d-22a4f14438bf",
   "metadata": {},
   "outputs": [],
   "source": []
  }
 ],
 "metadata": {
  "kernelspec": {
   "display_name": "Python 3 (ipykernel)",
   "language": "python",
   "name": "python3"
  },
  "language_info": {
   "codemirror_mode": {
    "name": "ipython",
    "version": 3
   },
   "file_extension": ".py",
   "mimetype": "text/x-python",
   "name": "python",
   "nbconvert_exporter": "python",
   "pygments_lexer": "ipython3",
   "version": "3.10.12"
  }
 },
 "nbformat": 4,
 "nbformat_minor": 5
}
